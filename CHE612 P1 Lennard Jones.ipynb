{
 "cells": [
  {
   "cell_type": "code",
   "execution_count": 1,
   "metadata": {},
   "outputs": [
    {
     "data": {
      "text/html": [
       "<script>\n",
       "  function code_toggle() {\n",
       "    if (code_shown){\n",
       "      $('div.input').hide('500');\n",
       "      $('#toggleButton').val('Show Code')\n",
       "    } else {\n",
       "      $('div.input').show('500');\n",
       "      $('#toggleButton').val('Hide Code')\n",
       "    }\n",
       "    code_shown = !code_shown\n",
       "  }\n",
       "\n",
       "  $( document ).ready(function(){\n",
       "    code_shown=false;\n",
       "    $('div.input').hide()\n",
       "  });\n",
       "</script>\n",
       "<form action=\"javascript:code_toggle()\"><input type=\"submit\" value=\"Click here to toggle on/off the raw code.\"></form>"
      ],
      "text/plain": [
       "<IPython.core.display.HTML object>"
      ]
     },
     "execution_count": 1,
     "metadata": {},
     "output_type": "execute_result"
    }
   ],
   "source": [
    "import numpy as np\n",
    "from sympy import diff, Symbol, lambdify\n",
    "import matplotlib.pyplot as plt\n",
    "import ipywidgets as widgets\n",
    "from ipywidgets import interact, interactive\n",
    "from prettytable import PrettyTable\n",
    "from scipy.optimize import fsolve, minimize, fmin\n",
    "from IPython.display import HTML\n",
    "\n",
    "HTML('''<script>\n",
    "  function code_toggle() {\n",
    "    if (code_shown){\n",
    "      $('div.input').hide('500');\n",
    "      $('#toggleButton').val('Show Code')\n",
    "    } else {\n",
    "      $('div.input').show('500');\n",
    "      $('#toggleButton').val('Hide Code')\n",
    "    }\n",
    "    code_shown = !code_shown\n",
    "  }\n",
    "\n",
    "  $( document ).ready(function(){\n",
    "    code_shown=false;\n",
    "    $('div.input').hide()\n",
    "  });\n",
    "</script>\n",
    "<form action=\"javascript:code_toggle()\"><input type=\"submit\" value=\"Click here to toggle on/off the raw code.\"></form>''')"
   ]
  },
  {
   "cell_type": "markdown",
   "metadata": {},
   "source": [
    "Professor Boxin Zhao - Universiy of Waterloo\n",
    "\n",
    "Problem 1:  The Lennard-Jones potential is  a  special  case  of  the  interaction  “pair  potential”. \n",
    "\n",
    "$$w(r) = -\\frac{A}{r^6} + \\frac{B}{r^12}$$\n",
    "\n",
    "In  this  potential  the  attractive  (negative)  contribution is the van der Waals interaction potential which varies with the inverse-sixth power of the distance. Make a sketch of how the energy w(r) and force F(r) vary with r.  \n",
    "For the interaction between two atoms the values of A and B are known to be A = 10-77 J m6 and B= 10-134 J m12. \n",
    "\n",
    "What is the minimum Lennard-Jones potential wmin for this interaction in units of kT at 298K, and what is the maximum adhesion force Fmax between the two atoms?  \n",
    "\n",
    "Is this force measurable with a sensitive balance, and why?"
   ]
  },
  {
   "cell_type": "code",
   "execution_count": 2,
   "metadata": {},
   "outputs": [],
   "source": [
    "def lennard_jones_potential(r, A = 10**-77, B = 10**-134):\n",
    "    w = -(A*r**-6) + (B*r**-12)\n",
    "    return w\n",
    "\n",
    "def lennard_jones_force(r, A = 10**-77, B = 10**-134):\n",
    "    x = Symbol('x')\n",
    "    w = -(A*(x**-6)) + (B*(x**-12))\n",
    "    wprime = w.diff(x)\n",
    "    f = lambdify(x, wprime)\n",
    "    force = -1*f(r)\n",
    "    return force\n",
    "\n",
    "def lennard_jones_plot():\n",
    "    pot = []\n",
    "    force = []\n",
    "    D = np.linspace(.3*10**-9, .6*10**-9, 500) #[m]\n",
    "    for item in D:\n",
    "        pot.append(lennard_jones_potential(item))\n",
    "        force.append(lennard_jones_force(item))\n",
    "\n",
    "    figure, ax1 = plt.subplots(figsize = (7,7))\n",
    "    ax2 = ax1.twinx()\n",
    "    plt.xlim([.3*10**-9, .6*10**-9])\n",
    "    ax1.plot(D, pot, figure=figure, label = 'Lennard-Jones Potential', color = 'blue')\n",
    "    ax2.plot(D, force, figure=figure, color = 'orange', label = 'Lennard-Jones Force')\n",
    "    ax1.plot([.3*10**-9, .6*10**-9], [0, 0], figure=figure, color = 'black', linewidth = 1)\n",
    "    ax2.plot([.3*10**-9, .6*10**-9], [0, 0], figure=figure, color = 'black', linewidth = 1)\n",
    "    plt.title('CHE612 - Lennard - Jones')\n",
    "    ax1.set_xlabel('Distance [m]')\n",
    "    ax1.set_ylabel('Potential [J]')\n",
    "    ax2.set_ylabel('Force [J/m]')\n",
    "\n",
    "    w_min = minimize(lennard_jones_potential, .2*10**-9, tol = 1*10**-30)\n",
    "    if .3*10**-9 <= w_min.x[0] <= .6*10**-9:\n",
    "        ax1.plot(w_min.x[0], w_min.fun, marker = 'o', color = 'red', lineStyle = 'None', label = \"Minimum Potential\")\n",
    "    \n",
    "    f_max = fmin(lennard_jones_force, w_min.x[0])\n",
    "    if .3*10**-9 <= f_max[0] <= .6*10**-9:\n",
    "        ax2.plot(f_max[0], lennard_jones_force(f_max[0]), marker = 'o', color = 'green', lineStyle = 'None', label = \"Maximum Force\")\n",
    "    \n",
    "    ax1.legend(loc=2)\n",
    "    ax2.legend()\n",
    "    \n",
    "    return w_min.x[0], f_max[0], lennard_jones_potential(w_min.x[0]), lennard_jones_force(f_max[0])\n",
    "    \n",
    "    \n"
   ]
  },
  {
   "cell_type": "code",
   "execution_count": 3,
   "metadata": {},
   "outputs": [
    {
     "name": "stdout",
     "output_type": "stream",
     "text": [
      "Optimization terminated successfully.\n",
      "         Current function value: -0.000000\n",
      "         Iterations: 1\n",
      "         Function evaluations: 2\n",
      "Minimum potential -2.4981138213879797e-21 J, Maximum force -1.4462590256722098e-11 N\n",
      "Minimum potential -0.6071727421879997 kT\n"
     ]
    },
    {
     "data": {
      "image/png": "[encoded data removed]",
      "text/plain": [
       "<Figure size 504x504 with 2 Axes>"
      ]
     },
     "metadata": {
      "needs_background": "light"
     },
     "output_type": "display_data"
    }
   ],
   "source": [
    "wmin_r, fmax_r, wmin, fmax = lennard_jones_plot()\n",
    "print(f\"\"\"Minimum potential {wmin} J, Maximum force {fmax} N\"\"\")\n",
    "\n",
    "k = 1.3806503*10**-23\n",
    "T = 298 \n",
    "\n",
    "kT = k * T #[J]\n",
    "wmin_kT = wmin / kT\n",
    "fmax_kT = fmax / kT\n",
    "\n",
    "print(f\"\"\"Minimum potential {wmin_kT} kT\"\"\")\n"
   ]
  },
  {
   "cell_type": "markdown",
   "metadata": {},
   "source": [
    "If a typical balance can measure to .0000001 g or 10^-9 N then any force less than 10^-9 N will be undetectable.\n",
    "\n",
    "(.0000001 g = 10^-10 kg * 9.81 m/s^2 ~ 10^-9 N)"
   ]
  },
  {
   "cell_type": "code",
   "execution_count": null,
   "metadata": {},
   "outputs": [],
   "source": []
  }
 ],
 "metadata": {
  "kernelspec": {
   "display_name": "Python 3",
   "language": "python",
   "name": "python3"
  },
  "language_info": {
   "codemirror_mode": {
    "name": "ipython",
    "version": 3
   },
   "file_extension": ".py",
   "mimetype": "text/x-python",
   "name": "python",
   "nbconvert_exporter": "python",
   "pygments_lexer": "ipython3",
   "version": "3.7.3"
  }
 },
 "nbformat": 4,
 "nbformat_minor": 2
}
